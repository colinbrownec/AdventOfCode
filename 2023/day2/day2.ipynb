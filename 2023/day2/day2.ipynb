{
 "cells": [
  {
   "cell_type": "code",
   "execution_count": 1,
   "metadata": {},
   "outputs": [],
   "source": [
    "txt = open('input.txt').readlines()"
   ]
  },
  {
   "cell_type": "code",
   "execution_count": 2,
   "metadata": {},
   "outputs": [],
   "source": [
    "import re\n",
    "\n",
    "game_pattern = re.compile('Game (\\d+):')\n",
    "cube_pattern = re.compile('(\\d+) (red|blue|green)')\n",
    "\n",
    "def parse_game(txt):\n",
    "  game = int(game_pattern.match(txt).group(1))\n",
    "  draws = [{ color:int(count) for count, color in cube_pattern.findall(draw) } for draw in txt.split(';')]\n",
    "  return { 'id': game, 'draws': draws }\n",
    "\n",
    "games = [parse_game(line) for line in txt]"
   ]
  },
  {
   "cell_type": "code",
   "execution_count": 3,
   "metadata": {},
   "outputs": [],
   "source": [
    "def possible_game(game, colors):\n",
    "  for draw in game['draws']:\n",
    "    for color, count in colors.items():\n",
    "      if draw.get(color, 0) > count: return False\n",
    "  return True\n",
    "\n",
    "expected = { 'red': 12, 'green': 13, 'blue': 14 }\n",
    "p1 = sum(game['id'] for game in games if possible_game(game, expected))\n",
    "\n",
    "print(p1)"
   ]
  },
  {
   "cell_type": "code",
   "execution_count": 4,
   "metadata": {},
   "outputs": [],
   "source": [
    "import math\n",
    "\n",
    "def game_power(game):\n",
    "  r = max(draw.get('red', 0)   for draw in game['draws'])\n",
    "  g = max(draw.get('green', 0) for draw in game['draws'])\n",
    "  b = max(draw.get('blue', 0)  for draw in game['draws'])\n",
    "  return r * g * b\n",
    "\n",
    "p2 = sum(game_power(game) for game in games)\n",
    "\n",
    "print(p2)"
   ]
  }
 ],
 "metadata": {
  "kernelspec": {
   "display_name": "base",
   "language": "python",
   "name": "python3"
  },
  "language_info": {
   "codemirror_mode": {
    "name": "ipython",
    "version": 3
   },
   "file_extension": ".py",
   "mimetype": "text/x-python",
   "name": "python",
   "nbconvert_exporter": "python",
   "pygments_lexer": "ipython3",
   "version": "3.9.1"
  },
  "orig_nbformat": 4
 },
 "nbformat": 4,
 "nbformat_minor": 2
}
