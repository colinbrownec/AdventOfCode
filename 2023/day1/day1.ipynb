{
 "cells": [
  {
   "cell_type": "code",
   "execution_count": 1,
   "metadata": {},
   "outputs": [
    {
     "name": "stdout",
     "output_type": "stream",
     "text": [
      "54770\n"
     ]
    }
   ],
   "source": [
    "import re\n",
    "\n",
    "pattern = re.compile('[1-9]|one|two|three|four|five|six|seven|eight|nine')\n",
    "\n",
    "def to_int(x):\n",
    "  return int(x) if x.isdigit() else {\n",
    "    'one': 1,\n",
    "    'two': 2,\n",
    "    'three': 3,\n",
    "    'four': 4,\n",
    "    'five': 5,\n",
    "    'six': 6,\n",
    "    'seven': 7,\n",
    "    'eight': 8,\n",
    "    'nine': 9\n",
    "  }.get(x)\n",
    "\n",
    "sum = 0\n",
    "for w in open('input.txt').readlines():\n",
    "  nums = [pattern.match(w, i) for i in range(len(w))]\n",
    "  nums = [num.group(0) for num in nums if num]\n",
    "\n",
    "  sum += to_int(nums[0]) * 10 + to_int(nums[-1])\n",
    "\n",
    "print(sum)"
   ]
  }
 ],
 "metadata": {
  "kernelspec": {
   "display_name": "base",
   "language": "python",
   "name": "python3"
  },
  "language_info": {
   "codemirror_mode": {
    "name": "ipython",
    "version": 3
   },
   "file_extension": ".py",
   "mimetype": "text/x-python",
   "name": "python",
   "nbconvert_exporter": "python",
   "pygments_lexer": "ipython3",
   "version": "3.9.1"
  }
 },
 "nbformat": 4,
 "nbformat_minor": 2
}
